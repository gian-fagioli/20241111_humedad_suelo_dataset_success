{
 "cells": [
  {
   "cell_type": "code",
   "execution_count": 1,
   "id": "59b5cabe-af37-4281-845f-4a94d7ad5081",
   "metadata": {},
   "outputs": [],
   "source": [
    "%load_ext autoreload\n",
    "%autoreload 2\n",
    "import os\n",
    "import sys\n",
    "module_path = os.path.abspath(os.path.join('../src')) # or the path to your source code\n",
    "sys.path.insert(0, module_path)"
   ]
  },
  {
   "cell_type": "code",
   "execution_count": 2,
   "id": "9002723b-175a-4521-b565-83c7a577fb00",
   "metadata": {},
   "outputs": [],
   "source": [
    "import pandas as pd\n",
    "import geopandas as gpd\n",
    "import json\n",
    "import re\n",
    "from time import sleep"
   ]
  },
  {
   "cell_type": "code",
   "execution_count": 3,
   "id": "639aad3d-aa05-4171-a989-d2a278b537e8",
   "metadata": {},
   "outputs": [],
   "source": [
    "# Import geolib\n",
    "import kilimo_data_lib.geolib as geolib"
   ]
  },
  {
   "cell_type": "code",
   "execution_count": 4,
   "id": "45ffd23c-0556-4f29-8be1-01950cb6616a",
   "metadata": {},
   "outputs": [],
   "source": [
    "# Instancia para Irriapp\n",
    "from kilimo_data_lib.irriapp import build_irriapp_client\n",
    "irriapp_client = build_irriapp_client()"
   ]
  },
  {
   "cell_type": "code",
   "execution_count": null,
   "id": "d60dc318-a516-4c98-abe9-64758fa4f419",
   "metadata": {},
   "outputs": [],
   "source": []
  },
  {
   "cell_type": "code",
   "execution_count": 18,
   "id": "30224a73-5855-4c06-9de7-b7cc2af0df3e",
   "metadata": {},
   "outputs": [],
   "source": [
    "# Load csv\n",
    "df = pd.read_csv('subs_plotids.csv')"
   ]
  },
  {
   "cell_type": "code",
   "execution_count": 19,
   "id": "e00c1043-e6eb-42b2-9635-e65d8380d86a",
   "metadata": {},
   "outputs": [
    {
     "data": {
      "text/html": [
       "<div>\n",
       "<style scoped>\n",
       "    .dataframe tbody tr th:only-of-type {\n",
       "        vertical-align: middle;\n",
       "    }\n",
       "\n",
       "    .dataframe tbody tr th {\n",
       "        vertical-align: top;\n",
       "    }\n",
       "\n",
       "    .dataframe thead th {\n",
       "        text-align: right;\n",
       "    }\n",
       "</style>\n",
       "<table border=\"1\" class=\"dataframe\">\n",
       "  <thead>\n",
       "    <tr style=\"text-align: right;\">\n",
       "      <th></th>\n",
       "      <th>plot_id</th>\n",
       "      <th>sub_id</th>\n",
       "      <th>name</th>\n",
       "    </tr>\n",
       "  </thead>\n",
       "  <tbody>\n",
       "    <tr>\n",
       "      <th>0</th>\n",
       "      <td>34980</td>\n",
       "      <td>a2d677ad-702f-4d31-a33e-950b4b033331</td>\n",
       "      <td>34980</td>\n",
       "    </tr>\n",
       "    <tr>\n",
       "      <th>1</th>\n",
       "      <td>33537</td>\n",
       "      <td>fcd1ad78-4940-404f-ad66-305d5ffd519f</td>\n",
       "      <td>33537</td>\n",
       "    </tr>\n",
       "    <tr>\n",
       "      <th>2</th>\n",
       "      <td>33538</td>\n",
       "      <td>77624dfa-5e55-4210-ab94-58db79755e48</td>\n",
       "      <td>33538</td>\n",
       "    </tr>\n",
       "  </tbody>\n",
       "</table>\n",
       "</div>"
      ],
      "text/plain": [
       "   plot_id                                sub_id   name\n",
       "0    34980  a2d677ad-702f-4d31-a33e-950b4b033331  34980\n",
       "1    33537  fcd1ad78-4940-404f-ad66-305d5ffd519f  33537\n",
       "2    33538  77624dfa-5e55-4210-ab94-58db79755e48  33538"
      ]
     },
     "execution_count": 19,
     "metadata": {},
     "output_type": "execute_result"
    }
   ],
   "source": [
    "df.head(3)"
   ]
  },
  {
   "cell_type": "code",
   "execution_count": 20,
   "id": "2c382267-f7bc-4a34-8ee8-9cfffcb6f2fb",
   "metadata": {},
   "outputs": [
    {
     "data": {
      "text/plain": [
       "133"
      ]
     },
     "execution_count": 20,
     "metadata": {},
     "output_type": "execute_result"
    }
   ],
   "source": [
    "df['plot_id'].nunique()"
   ]
  },
  {
   "cell_type": "code",
   "execution_count": null,
   "id": "62b5eb57-c402-482c-9f60-9f130020171c",
   "metadata": {},
   "outputs": [],
   "source": [
    "# Dataframe to save images values\n",
    "df_values = pd.DataFrame(columns=['plot_id', 'sub_id',\n",
    "                                  'fecha_img_SWC','mean_value'])\n",
    "\n",
    "\n",
    "path_prefix = 'SWC_images/Soil_Water_Holding_Capacity/SWHC/'\n",
    "\n",
    "for index, row in df.iterrows():\n",
    "    \n",
    "    plot_id = row['plot_id']\n",
    "    sub_id = row['sub_id']\n",
    "\n",
    "    print('Processing plot:', plot_id)\n",
    "\n",
    "    # Get geojson from irriapp\n",
    "    plot_geojson = irriapp_client.get_plot_geojson(plot_id)\n",
    "    \n",
    "    geojson_str = json.dumps(plot_geojson)\n",
    "\n",
    "    \n",
    "    for (dirpath, dirnames, filenames) in os.walk(f'./{path_prefix}{sub_id}'):\n",
    "\n",
    "        for filename in filenames:\n",
    "            if filename.endswith('swc.tiff'): \n",
    "                image_path = os.sep.join([dirpath, filename])\n",
    "\n",
    "                ano = image_path.split('/')[-4]\n",
    "                mes = image_path.split('/')[-3]\n",
    "                dia = image_path.split('/')[-2]\n",
    "                fecha = f'{ano}-{mes}-{dia}'\n",
    "\n",
    "                weighted_value = geolib.calculate_weighted_swc_value(image_path, geojson_str)\n",
    "\n",
    "                if weighted_value is not None:\n",
    "                    df_aux = pd.DataFrame({'plot_id': plot_id,\n",
    "                                           'sub_id': sub_id,\n",
    "                                           'fecha_img_SWC': fecha,\n",
    "                                           'mean_value': weighted_value}, index=[0])\n",
    "\n",
    "                    df_values = pd.concat([df_values, df_aux], ignore_index=True)\n",
    "    \n",
    "    df_values.to_csv('images_values.csv', index=False)"
   ]
  },
  {
   "cell_type": "code",
   "execution_count": null,
   "id": "92aec3b9-4835-4d2f-b13d-12cbefc4e279",
   "metadata": {},
   "outputs": [],
   "source": []
  },
  {
   "cell_type": "code",
   "execution_count": null,
   "id": "285546a9-75c9-4a48-a0a5-9bd51b2847f2",
   "metadata": {},
   "outputs": [],
   "source": []
  },
  {
   "cell_type": "code",
   "execution_count": 37,
   "id": "4b86a985-d7d3-4414-a31c-615d2115c787",
   "metadata": {},
   "outputs": [],
   "source": [
    "df_values.to_csv('images_values.csv', index=False)"
   ]
  },
  {
   "cell_type": "code",
   "execution_count": null,
   "id": "d5cb4efe-48fd-4e8b-9a23-d4eeb438dd75",
   "metadata": {},
   "outputs": [],
   "source": []
  },
  {
   "cell_type": "code",
   "execution_count": 8,
   "id": "f125f645-ec81-401e-982d-5826db60e842",
   "metadata": {},
   "outputs": [],
   "source": [
    "df_values = pd.read_csv('images_values.csv')"
   ]
  },
  {
   "cell_type": "code",
   "execution_count": 9,
   "id": "cda80f9a-8926-432b-9745-4ddea79035be",
   "metadata": {},
   "outputs": [
    {
     "data": {
      "text/plain": [
       "133"
      ]
     },
     "execution_count": 9,
     "metadata": {},
     "output_type": "execute_result"
    }
   ],
   "source": [
    "df_values['plot_id'].nunique()"
   ]
  },
  {
   "cell_type": "code",
   "execution_count": 11,
   "id": "bb2cf32e-d7d9-48ec-9394-c9810bb9aae8",
   "metadata": {},
   "outputs": [],
   "source": [
    "# Check if there is big gaps caused by not processed images\n",
    "\n",
    "df_values['fecha_img_SWC'] = pd.to_datetime(df_values['fecha_img_SWC'], format='%Y-%m-%d')\n",
    "\n",
    "# Contar valores únicos por plot_id\n",
    "conteo_unicos = df_values.groupby('plot_id')['fecha_img_SWC'].nunique().reset_index()\n",
    "\n",
    "# Renombrar columnas para claridad (opcional)\n",
    "conteo_unicos.columns = ['plot_id', 'cantidad_valores_unicos']"
   ]
  },
  {
   "cell_type": "code",
   "execution_count": 13,
   "id": "d44aa0ee-e4d1-4420-bccd-d4be867edf1b",
   "metadata": {},
   "outputs": [
    {
     "data": {
      "text/plain": [
       "count     133.000000\n",
       "mean     1158.864662\n",
       "std        79.345121\n",
       "min       893.000000\n",
       "25%      1180.000000\n",
       "50%      1193.000000\n",
       "75%      1195.000000\n",
       "max      1195.000000\n",
       "Name: cantidad_valores_unicos, dtype: float64"
      ]
     },
     "execution_count": 13,
     "metadata": {},
     "output_type": "execute_result"
    }
   ],
   "source": [
    "conteo_unicos['cantidad_valores_unicos'].describe()"
   ]
  },
  {
   "cell_type": "code",
   "execution_count": 14,
   "id": "3b214172-4780-400e-afed-e008f1533840",
   "metadata": {},
   "outputs": [],
   "source": [
    "conteo_unicos = conteo_unicos[conteo_unicos['cantidad_valores_unicos'] < 1100]"
   ]
  },
  {
   "cell_type": "code",
   "execution_count": 16,
   "id": "260b6b78-d45e-474f-9f84-aa41095455f1",
   "metadata": {},
   "outputs": [],
   "source": [
    "# Hay plots que tienen menos imagenes procesadas que el resto, si estan las imág\n",
    "lista_plots_to_check = conteo_unicos['plot_id'].to_list()"
   ]
  },
  {
   "cell_type": "code",
   "execution_count": 17,
   "id": "86dbaff8-bf74-4676-97a3-20b5427e8b2f",
   "metadata": {},
   "outputs": [
    {
     "data": {
      "text/plain": [
       "[25102,\n",
       " 25103,\n",
       " 25104,\n",
       " 25105,\n",
       " 25106,\n",
       " 25148,\n",
       " 25150,\n",
       " 25151,\n",
       " 25153,\n",
       " 25154,\n",
       " 26707,\n",
       " 26709,\n",
       " 26712,\n",
       " 27826,\n",
       " 28716,\n",
       " 28717,\n",
       " 28718,\n",
       " 28720,\n",
       " 33716,\n",
       " 33717,\n",
       " 33718]"
      ]
     },
     "execution_count": 17,
     "metadata": {},
     "output_type": "execute_result"
    }
   ],
   "source": [
    "lista_plots_to_check"
   ]
  },
  {
   "cell_type": "code",
   "execution_count": null,
   "id": "69f93d8a-8885-49b4-8fa5-60abe866faa8",
   "metadata": {},
   "outputs": [],
   "source": [
    "# Dataframe to save images values\n",
    "df_values = pd.DataFrame(columns=['plot_id', 'sub_id',\n",
    "                                  'fecha_img_SWC','mean_value'])\n",
    "\n",
    "\n",
    "path_prefix = 'SWC_images/Soil_Water_Holding_Capacity/SWHC/'\n",
    "\n",
    "for index, row in df.iterrows():\n",
    "    \n",
    "    plot_id = row['plot_id']\n",
    "    sub_id = row['sub_id']\n",
    "\n",
    "    if plot_id not in lista_plots_to_check:\n",
    "        continue\n",
    "\n",
    "    print('Processing plot:', plot_id)\n",
    "\n",
    "    # Get geojson from irriapp\n",
    "    plot_geojson = irriapp_client.get_plot_geojson(plot_id)\n",
    "    \n",
    "    geojson_str = json.dumps(plot_geojson)\n",
    "\n",
    "    \n",
    "    for (dirpath, dirnames, filenames) in os.walk(f'./{path_prefix}{sub_id}'):\n",
    "\n",
    "        for filename in filenames:\n",
    "            if filename.endswith('swc.tiff'): \n",
    "                image_path = os.sep.join([dirpath, filename])\n",
    "\n",
    "                ano = image_path.split('/')[-4]\n",
    "                mes = image_path.split('/')[-3]\n",
    "                dia = image_path.split('/')[-2]\n",
    "                fecha = f'{ano}-{mes}-{dia}'\n",
    "\n",
    "                weighted_value = geolib.calculate_weighted_swc_value(image_path, geojson_str)\n",
    "\n",
    "                if weighted_value is not None:\n",
    "                    df_aux = pd.DataFrame({'plot_id': plot_id,\n",
    "                                           'sub_id': sub_id,\n",
    "                                           'fecha_img_SWC': fecha,\n",
    "                                           'mean_value': weighted_value}, index=[0])\n",
    "\n",
    "                    df_values = pd.concat([df_values, df_aux], ignore_index=True)\n",
    "    \n",
    "    df_values.to_csv('images_values_2.csv', index=False)"
   ]
  },
  {
   "cell_type": "code",
   "execution_count": 25,
   "id": "a874d7bc-9277-41f6-bb81-323a0a2f21cd",
   "metadata": {},
   "outputs": [],
   "source": [
    "# Contar valores únicos por plot_id\n",
    "conteo_unicos = df_values.groupby('plot_id')['fecha_img_SWC'].nunique().reset_index()\n",
    "\n",
    "# Renombrar columnas para claridad (opcional)\n",
    "conteo_unicos.columns = ['plot_id', 'cantidad_valores_unicos']"
   ]
  },
  {
   "cell_type": "code",
   "execution_count": 26,
   "id": "c515cf34-f443-4805-b88a-9f9e1ba1fc57",
   "metadata": {},
   "outputs": [
    {
     "data": {
      "text/html": [
       "<div>\n",
       "<style scoped>\n",
       "    .dataframe tbody tr th:only-of-type {\n",
       "        vertical-align: middle;\n",
       "    }\n",
       "\n",
       "    .dataframe tbody tr th {\n",
       "        vertical-align: top;\n",
       "    }\n",
       "\n",
       "    .dataframe thead th {\n",
       "        text-align: right;\n",
       "    }\n",
       "</style>\n",
       "<table border=\"1\" class=\"dataframe\">\n",
       "  <thead>\n",
       "    <tr style=\"text-align: right;\">\n",
       "      <th></th>\n",
       "      <th>plot_id</th>\n",
       "      <th>cantidad_valores_unicos</th>\n",
       "    </tr>\n",
       "  </thead>\n",
       "  <tbody>\n",
       "    <tr>\n",
       "      <th>0</th>\n",
       "      <td>25102</td>\n",
       "      <td>1027</td>\n",
       "    </tr>\n",
       "    <tr>\n",
       "      <th>1</th>\n",
       "      <td>25103</td>\n",
       "      <td>1026</td>\n",
       "    </tr>\n",
       "    <tr>\n",
       "      <th>2</th>\n",
       "      <td>25104</td>\n",
       "      <td>1027</td>\n",
       "    </tr>\n",
       "    <tr>\n",
       "      <th>3</th>\n",
       "      <td>25105</td>\n",
       "      <td>1024</td>\n",
       "    </tr>\n",
       "    <tr>\n",
       "      <th>4</th>\n",
       "      <td>25106</td>\n",
       "      <td>1021</td>\n",
       "    </tr>\n",
       "    <tr>\n",
       "      <th>5</th>\n",
       "      <td>25148</td>\n",
       "      <td>1073</td>\n",
       "    </tr>\n",
       "    <tr>\n",
       "      <th>6</th>\n",
       "      <td>25150</td>\n",
       "      <td>1073</td>\n",
       "    </tr>\n",
       "    <tr>\n",
       "      <th>7</th>\n",
       "      <td>25151</td>\n",
       "      <td>1073</td>\n",
       "    </tr>\n",
       "    <tr>\n",
       "      <th>8</th>\n",
       "      <td>25153</td>\n",
       "      <td>1074</td>\n",
       "    </tr>\n",
       "    <tr>\n",
       "      <th>9</th>\n",
       "      <td>25154</td>\n",
       "      <td>1074</td>\n",
       "    </tr>\n",
       "    <tr>\n",
       "      <th>10</th>\n",
       "      <td>26707</td>\n",
       "      <td>1075</td>\n",
       "    </tr>\n",
       "    <tr>\n",
       "      <th>11</th>\n",
       "      <td>26709</td>\n",
       "      <td>1075</td>\n",
       "    </tr>\n",
       "    <tr>\n",
       "      <th>12</th>\n",
       "      <td>26712</td>\n",
       "      <td>1074</td>\n",
       "    </tr>\n",
       "    <tr>\n",
       "      <th>13</th>\n",
       "      <td>27826</td>\n",
       "      <td>893</td>\n",
       "    </tr>\n",
       "    <tr>\n",
       "      <th>14</th>\n",
       "      <td>28716</td>\n",
       "      <td>894</td>\n",
       "    </tr>\n",
       "    <tr>\n",
       "      <th>15</th>\n",
       "      <td>28717</td>\n",
       "      <td>894</td>\n",
       "    </tr>\n",
       "    <tr>\n",
       "      <th>16</th>\n",
       "      <td>28718</td>\n",
       "      <td>894</td>\n",
       "    </tr>\n",
       "    <tr>\n",
       "      <th>17</th>\n",
       "      <td>28720</td>\n",
       "      <td>893</td>\n",
       "    </tr>\n",
       "    <tr>\n",
       "      <th>18</th>\n",
       "      <td>33716</td>\n",
       "      <td>893</td>\n",
       "    </tr>\n",
       "    <tr>\n",
       "      <th>19</th>\n",
       "      <td>33717</td>\n",
       "      <td>893</td>\n",
       "    </tr>\n",
       "    <tr>\n",
       "      <th>20</th>\n",
       "      <td>33718</td>\n",
       "      <td>893</td>\n",
       "    </tr>\n",
       "  </tbody>\n",
       "</table>\n",
       "</div>"
      ],
      "text/plain": [
       "    plot_id  cantidad_valores_unicos\n",
       "0     25102                     1027\n",
       "1     25103                     1026\n",
       "2     25104                     1027\n",
       "3     25105                     1024\n",
       "4     25106                     1021\n",
       "5     25148                     1073\n",
       "6     25150                     1073\n",
       "7     25151                     1073\n",
       "8     25153                     1074\n",
       "9     25154                     1074\n",
       "10    26707                     1075\n",
       "11    26709                     1075\n",
       "12    26712                     1074\n",
       "13    27826                      893\n",
       "14    28716                      894\n",
       "15    28717                      894\n",
       "16    28718                      894\n",
       "17    28720                      893\n",
       "18    33716                      893\n",
       "19    33717                      893\n",
       "20    33718                      893"
      ]
     },
     "execution_count": 26,
     "metadata": {},
     "output_type": "execute_result"
    }
   ],
   "source": [
    "conteo_unicos"
   ]
  },
  {
   "cell_type": "markdown",
   "id": "267161b0-fb18-4f51-9fe3-d516cf535527",
   "metadata": {},
   "source": [
    "### Conclusión, no faltaron imagenes por procesar en el 1er intento. ya que luego de un segundo reprocesamiento la cantidad de imagenes por lote es la misma"
   ]
  },
  {
   "cell_type": "code",
   "execution_count": null,
   "id": "4b88c0f8-4480-4ff5-ae05-e5e0cffc2a60",
   "metadata": {},
   "outputs": [],
   "source": []
  },
  {
   "cell_type": "code",
   "execution_count": null,
   "id": "f1594329-503e-4fe7-8f81-9301450f4d57",
   "metadata": {},
   "outputs": [],
   "source": []
  }
 ],
 "metadata": {
  "kernelspec": {
   "display_name": "Python 3 (ipykernel)",
   "language": "python",
   "name": "python3"
  },
  "language_info": {
   "codemirror_mode": {
    "name": "ipython",
    "version": 3
   },
   "file_extension": ".py",
   "mimetype": "text/x-python",
   "name": "python",
   "nbconvert_exporter": "python",
   "pygments_lexer": "ipython3",
   "version": "3.13.0"
  }
 },
 "nbformat": 4,
 "nbformat_minor": 5
}
