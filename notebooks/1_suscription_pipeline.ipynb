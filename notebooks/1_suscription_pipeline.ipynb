{
 "cells": [
  {
   "cell_type": "code",
   "execution_count": 147,
   "id": "fd8641f1-ef4a-43cb-b4d9-180c0b848dee",
   "metadata": {},
   "outputs": [
    {
     "name": "stdout",
     "output_type": "stream",
     "text": [
      "The autoreload extension is already loaded. To reload it, use:\n",
      "  %reload_ext autoreload\n"
     ]
    }
   ],
   "source": [
    "%load_ext autoreload\n",
    "%autoreload 2\n",
    "import os\n",
    "import sys\n",
    "module_path = os.path.abspath(os.path.join('../src')) # or the path to your source code\n",
    "sys.path.insert(0, module_path)"
   ]
  },
  {
   "cell_type": "code",
   "execution_count": 148,
   "id": "3862acdc-3489-4e27-bf5a-be4f078f352d",
   "metadata": {},
   "outputs": [],
   "source": [
    "import pandas as pd\n",
    "import json\n",
    "import re\n",
    "from time import sleep"
   ]
  },
  {
   "cell_type": "code",
   "execution_count": 149,
   "id": "5e655453-7c0d-41f5-8616-6e43bee4fd20",
   "metadata": {},
   "outputs": [],
   "source": [
    "# Instancia para Irriapp\n",
    "from kilimo_data_lib.irriapp import build_irriapp_client\n",
    "irriapp_client = build_irriapp_client()"
   ]
  },
  {
   "cell_type": "code",
   "execution_count": 172,
   "id": "be875a6d-fac4-4c55-b4cb-a00551809874",
   "metadata": {},
   "outputs": [],
   "source": [
    "# Instancia para Planet\n",
    "from kilimo_data_lib.planet import build_planet_client\n",
    "planet = build_planet_client()"
   ]
  },
  {
   "cell_type": "code",
   "execution_count": 151,
   "id": "46b3bec4-7f99-46b6-af07-e46f566fc17c",
   "metadata": {},
   "outputs": [],
   "source": [
    "# Import geolib\n",
    "from kilimo_data_lib.geolib import add_buffer_to_geojson"
   ]
  },
  {
   "cell_type": "code",
   "execution_count": null,
   "id": "d81f996a-8bbd-4d53-9eed-3a116b34b34a",
   "metadata": {},
   "outputs": [],
   "source": []
  },
  {
   "cell_type": "code",
   "execution_count": 156,
   "id": "ee8e9436-ef6a-4a7d-91da-ebcdb96d4e05",
   "metadata": {},
   "outputs": [],
   "source": [
    "# Leo el dataframe\n",
    "df = pd.read_csv('dataset_agro_cultiv_reg.csv')"
   ]
  },
  {
   "cell_type": "code",
   "execution_count": 157,
   "id": "e081c6d2-f8e6-4bba-860c-195963d1e6d8",
   "metadata": {
    "scrolled": true
   },
   "outputs": [
    {
     "data": {
      "text/html": [
       "<div>\n",
       "<style scoped>\n",
       "    .dataframe tbody tr th:only-of-type {\n",
       "        vertical-align: middle;\n",
       "    }\n",
       "\n",
       "    .dataframe tbody tr th {\n",
       "        vertical-align: top;\n",
       "    }\n",
       "\n",
       "    .dataframe thead th {\n",
       "        text-align: right;\n",
       "    }\n",
       "</style>\n",
       "<table border=\"1\" class=\"dataframe\">\n",
       "  <thead>\n",
       "    <tr style=\"text-align: right;\">\n",
       "      <th></th>\n",
       "      <th>Tipo de manejo del campo/lote</th>\n",
       "      <th>Link a control del campo</th>\n",
       "      <th>Id de los lotes que tienen el mismo manejo</th>\n",
       "      <th>Fecha desde</th>\n",
       "      <th>Detalles</th>\n",
       "      <th>Success</th>\n",
       "      <th>field_id</th>\n",
       "      <th>plot_id</th>\n",
       "    </tr>\n",
       "  </thead>\n",
       "  <tbody>\n",
       "    <tr>\n",
       "      <th>0</th>\n",
       "      <td>1</td>\n",
       "      <td>https://control.kilimo.com.ar/field/17529/cont...</td>\n",
       "      <td>34980, 34979, 33539, 33538, 33537, 33536, 33535</td>\n",
       "      <td>1/1/2015</td>\n",
       "      <td>No pudieron precisar la fecha de inicio del us...</td>\n",
       "      <td>Pia</td>\n",
       "      <td>17529.0</td>\n",
       "      <td>34980</td>\n",
       "    </tr>\n",
       "    <tr>\n",
       "      <th>1</th>\n",
       "      <td>1</td>\n",
       "      <td>https://control.kilimo.com.ar/field/17529/cont...</td>\n",
       "      <td>34980, 34979, 33539, 33538, 33537, 33536, 33535</td>\n",
       "      <td>1/1/2015</td>\n",
       "      <td>No pudieron precisar la fecha de inicio del us...</td>\n",
       "      <td>Pia</td>\n",
       "      <td>17529.0</td>\n",
       "      <td>33537</td>\n",
       "    </tr>\n",
       "    <tr>\n",
       "      <th>2</th>\n",
       "      <td>1</td>\n",
       "      <td>https://control.kilimo.com.ar/field/17529/cont...</td>\n",
       "      <td>34980, 34979, 33539, 33538, 33537, 33536, 33535</td>\n",
       "      <td>1/1/2015</td>\n",
       "      <td>No pudieron precisar la fecha de inicio del us...</td>\n",
       "      <td>Pia</td>\n",
       "      <td>17529.0</td>\n",
       "      <td>33538</td>\n",
       "    </tr>\n",
       "  </tbody>\n",
       "</table>\n",
       "</div>"
      ],
      "text/plain": [
       "   Tipo de manejo del campo/lote  \\\n",
       "0                              1   \n",
       "1                              1   \n",
       "2                              1   \n",
       "\n",
       "                            Link a control del campo  \\\n",
       "0  https://control.kilimo.com.ar/field/17529/cont...   \n",
       "1  https://control.kilimo.com.ar/field/17529/cont...   \n",
       "2  https://control.kilimo.com.ar/field/17529/cont...   \n",
       "\n",
       "        Id de los lotes que tienen el mismo manejo Fecha desde  \\\n",
       "0  34980, 34979, 33539, 33538, 33537, 33536, 33535    1/1/2015   \n",
       "1  34980, 34979, 33539, 33538, 33537, 33536, 33535    1/1/2015   \n",
       "2  34980, 34979, 33539, 33538, 33537, 33536, 33535    1/1/2015   \n",
       "\n",
       "                                            Detalles Success  field_id  \\\n",
       "0  No pudieron precisar la fecha de inicio del us...     Pia   17529.0   \n",
       "1  No pudieron precisar la fecha de inicio del us...     Pia   17529.0   \n",
       "2  No pudieron precisar la fecha de inicio del us...     Pia   17529.0   \n",
       "\n",
       "   plot_id  \n",
       "0    34980  \n",
       "1    33537  \n",
       "2    33538  "
      ]
     },
     "execution_count": 157,
     "metadata": {},
     "output_type": "execute_result"
    }
   ],
   "source": [
    "df.head(3)"
   ]
  },
  {
   "cell_type": "code",
   "execution_count": 158,
   "id": "dd50dea8-0416-4e30-9657-7d09acc08ff1",
   "metadata": {},
   "outputs": [],
   "source": [
    "# Mani plots out of dataset\n",
    "df = df[~df['plot_id'].isin([631, 694, 632])]"
   ]
  },
  {
   "cell_type": "code",
   "execution_count": 162,
   "id": "470d69d0-528b-4aed-84f5-f726004a7676",
   "metadata": {},
   "outputs": [
    {
     "data": {
      "text/plain": [
       "134"
      ]
     },
     "execution_count": 162,
     "metadata": {},
     "output_type": "execute_result"
    }
   ],
   "source": [
    "df.shape[0]"
   ]
  },
  {
   "cell_type": "code",
   "execution_count": null,
   "id": "db67905f-1513-41e7-a45c-d0ecf1b00c3c",
   "metadata": {},
   "outputs": [],
   "source": []
  },
  {
   "cell_type": "code",
   "execution_count": null,
   "id": "4476f00c-ff6f-4931-9dae-3d3c8be88cd0",
   "metadata": {},
   "outputs": [],
   "source": [
    "# Consulto el product_id de SWC en la suborganización\n",
    "planet_my_products = planet.get_my_products()\n",
    "planet_my_products"
   ]
  },
  {
   "cell_type": "code",
   "execution_count": 160,
   "id": "5a82bbc2-fbe2-4c02-b721-8c29e18dcfcc",
   "metadata": {},
   "outputs": [],
   "source": [
    "# ID del producto SWC de Planet\n",
    "planet_product_id = planet_my_products['results'][0]['id']"
   ]
  },
  {
   "cell_type": "code",
   "execution_count": 161,
   "id": "a75a3cd8-1258-44e8-a0e5-9e866ee50388",
   "metadata": {},
   "outputs": [
    {
     "data": {
      "text/plain": [
       "475"
      ]
     },
     "execution_count": 161,
     "metadata": {},
     "output_type": "execute_result"
    }
   ],
   "source": [
    "planet_product_id"
   ]
  },
  {
   "cell_type": "code",
   "execution_count": 163,
   "id": "9d9483e0-e578-4273-86e3-e0f156d921f8",
   "metadata": {},
   "outputs": [],
   "source": [
    "# Crear una collection en Planet para el proyecto\n",
    "#title = '20241111_humedad_suelo_dataset_success'\n",
    "#description = 'Analysis of increase soil water retention in agronomy success plots'\n",
    "title = 'Soil_Water_Holding_Capacity'\n",
    "description = 'Detecting increases of holding capacity'\n",
    "planet_collection = planet.create_collection(title, description)"
   ]
  },
  {
   "cell_type": "code",
   "execution_count": 164,
   "id": "86173f29-88d9-4374-b065-c5cd41e2a43d",
   "metadata": {},
   "outputs": [],
   "source": [
    "planet_collection_id = planet_collection['id']"
   ]
  },
  {
   "cell_type": "code",
   "execution_count": 165,
   "id": "145f21e9-ea07-4748-af26-4acd25ac646a",
   "metadata": {},
   "outputs": [
    {
     "data": {
      "text/plain": [
       "'soil_water_holding_capacity-prol0RZ'"
      ]
     },
     "execution_count": 165,
     "metadata": {},
     "output_type": "execute_result"
    }
   ],
   "source": [
    "planet_collection_id"
   ]
  },
  {
   "cell_type": "code",
   "execution_count": 106,
   "id": "85b62e8e-4171-4277-9466-3896f27a343e",
   "metadata": {},
   "outputs": [],
   "source": [
    "path_prefix = \"test_template_subs/CR\""
   ]
  },
  {
   "cell_type": "code",
   "execution_count": 185,
   "id": "d8992564-864b-48bf-8f43-6a76e2554ec6",
   "metadata": {},
   "outputs": [
    {
     "name": "stdout",
     "output_type": "stream",
     "text": [
      "Index: 57 plot_id: 14557\n",
      "Index: 58 plot_id: 14270\n",
      "Index: 59 plot_id: 14272\n",
      "Index: 60 plot_id: 14271\n",
      "Index: 61 plot_id: 31007\n",
      "Index: 62 plot_id: 31001\n",
      "Index: 63 plot_id: 31000\n",
      "Index: 64 plot_id: 30996\n",
      "Index: 65 plot_id: 30995\n",
      "Index: 66 plot_id: 30997\n",
      "Index: 67 plot_id: 31004\n",
      "Index: 68 plot_id: 31002\n",
      "Index: 69 plot_id: 33329\n",
      "Index: 70 plot_id: 33326\n",
      "Index: 71 plot_id: 33328\n",
      "Index: 72 plot_id: 33327\n",
      "Index: 73 plot_id: 33330\n",
      "Index: 74 plot_id: 33339\n",
      "Index: 75 plot_id: 33340\n",
      "Index: 76 plot_id: 33336\n",
      "Index: 77 plot_id: 33337\n",
      "Index: 78 plot_id: 33338\n",
      "Index: 79 plot_id: 35025\n",
      "Index: 80 plot_id: 35024\n",
      "Index: 81 plot_id: 35093\n",
      "Index: 82 plot_id: 35028\n",
      "Index: 83 plot_id: 35026\n",
      "Index: 84 plot_id: 35027\n",
      "Index: 85 plot_id: 27289\n",
      "Index: 86 plot_id: 27299\n",
      "Index: 87 plot_id: 27292\n",
      "Index: 88 plot_id: 27297\n",
      "Index: 89 plot_id: 27287\n",
      "Index: 90 plot_id: 27281\n",
      "Index: 91 plot_id: 27302\n",
      "Index: 92 plot_id: 27290\n",
      "Index: 93 plot_id: 30439\n",
      "Index: 94 plot_id: 30451\n",
      "Index: 95 plot_id: 30447\n",
      "Index: 96 plot_id: 30446\n",
      "Index: 97 plot_id: 30438\n",
      "Index: 98 plot_id: 30448\n",
      "Index: 99 plot_id: 30441\n",
      "Index: 100 plot_id: 30437\n",
      "Index: 101 plot_id: 28766\n",
      "Index: 102 plot_id: 28763\n",
      "Index: 103 plot_id: 28764\n",
      "Index: 104 plot_id: 28759\n",
      "Index: 105 plot_id: 28761\n",
      "Index: 106 plot_id: 28760\n",
      "Index: 107 plot_id: 28758\n",
      "Index: 108 plot_id: 28765\n",
      "Index: 109 plot_id: 15597\n",
      "Index: 110 plot_id: 15594\n",
      "Index: 111 plot_id: 15592\n",
      "Index: 112 plot_id: 26175\n",
      "Index: 113 plot_id: 15600\n",
      "Index: 114 plot_id: 15590\n",
      "Index: 115 plot_id: 15602\n",
      "Index: 116 plot_id: 15591\n",
      "Index: 117 plot_id: 17913\n",
      "Index: 118 plot_id: 17909\n",
      "Index: 119 plot_id: 17914\n",
      "Index: 120 plot_id: 17910\n",
      "Index: 121 plot_id: 17912\n",
      "Index: 122 plot_id: 17911\n",
      "Index: 123 plot_id: 15283\n",
      "Index: 124 plot_id: 15281\n",
      "Index: 125 plot_id: 15282\n",
      "Index: 126 plot_id: 15279\n",
      "Index: 127 plot_id: 15284\n",
      "Index: 128 plot_id: 15280\n",
      "Index: 129 plot_id: 30618\n",
      "Index: 130 plot_id: 30609\n",
      "Index: 131 plot_id: 30615\n",
      "Index: 132 plot_id: 30611\n",
      "Index: 133 plot_id: 30602\n",
      "Index: 134 plot_id: 30607\n",
      "Index: 135 plot_id: 30608\n",
      "Index: 136 plot_id: 30612\n"
     ]
    }
   ],
   "source": [
    "start_time = \"2018-01-01T00:00:00Z\"  # Start date for all planet subscriptions\n",
    "path_prefix = \"Soil_Water_Holding_Capacity/SWHC\"  # Prefix for S3 delivery\n",
    "\n",
    "plot_id_processed_order = []\n",
    "resp = []\n",
    "planet_create_subscription_result = []\n",
    "planet_reservation_result = []\n",
    "\n",
    "# Recorro el df y obtengo el plot_id de cada lote a suscribir\n",
    "for index, row in df.iterrows():\n",
    "\n",
    "    if index <= 56:\n",
    "        continue\n",
    "    \n",
    "    plot_id = row['plot_id']\n",
    "    plot_id_processed_order.append(plot_id)\n",
    "\n",
    "    # Get plot data\n",
    "    plot = irriapp_client.get_plot(plot_id)\n",
    "    \n",
    "    # Get geojson from irriapp\n",
    "    plot_geojson = irriapp_client.get_plot_geojson(plot_id)\n",
    "\n",
    "    string_plot_geojson = json.dumps(plot_geojson)\n",
    "\n",
    "    # Add 1m buffer to geojson\n",
    "    output_name = f'{plot_id}_geojson_with_buffer'\n",
    "    plot_geojson_buffer = add_buffer_to_geojson(output_name, string_plot_geojson)\n",
    "\n",
    "    # Add geojson to collection\n",
    "    title = f'{plot['pk']}-{plot['name']}-{plot['field_name']}'\n",
    "    description = f'descripcion_{plot['pk']}'\n",
    "    \n",
    "    resp.append(planet.add_features_to_collection(planet_collection_id, \n",
    "                                                  plot_geojson_buffer,\n",
    "                                                  str(plot_id),\n",
    "                                                  title, description))\n",
    "    \n",
    "    reference = resp[-1]\n",
    "    # Reserve quota for collection\n",
    "    planet_reservation_result.append(planet.reserve_quota_bulk(planet_product_id, reference))\n",
    "\n",
    "    sleep(3)\n",
    "\n",
    "    # Create suscription for plot\n",
    "    planet_create_subscription_result.append(planet.create_subscription_by_reference(plot_id, reference[0], \n",
    "                                                                                     start_time, path_prefix=path_prefix))\n",
    "\n",
    "    print('Index:', index, 'plot_id:', plot_id)"
   ]
  },
  {
   "cell_type": "code",
   "execution_count": 144,
   "id": "74886dcd-953e-44db-a1f0-a0c41cc1e52a",
   "metadata": {},
   "outputs": [
    {
     "data": {
      "text/plain": [
       "[['pl:features/my/test_template_2-Lvxo9LZ/33537-g3aRaWm']]"
      ]
     },
     "execution_count": 144,
     "metadata": {},
     "output_type": "execute_result"
    }
   ],
   "source": [
    "resp"
   ]
  },
  {
   "cell_type": "code",
   "execution_count": 179,
   "id": "77e027ef-15e5-4b17-a82f-4e08b82349f8",
   "metadata": {},
   "outputs": [],
   "source": []
  },
  {
   "cell_type": "code",
   "execution_count": 189,
   "id": "85736e6c-7714-42bb-84a4-19fcabbf0c54",
   "metadata": {},
   "outputs": [],
   "source": [
    "with open('planet_reservation_result_It2.pkl', 'wb') as archivo:\n",
    "    pickle.dump(planet_reservation_result, archivo)"
   ]
  },
  {
   "cell_type": "code",
   "execution_count": null,
   "id": "6e13d7ff-c3c3-4905-93ef-cf9e28a31ed6",
   "metadata": {},
   "outputs": [],
   "source": []
  },
  {
   "cell_type": "code",
   "execution_count": null,
   "id": "b360d4a6-f305-42d6-b96b-a243fbf043f7",
   "metadata": {},
   "outputs": [],
   "source": []
  },
  {
   "cell_type": "code",
   "execution_count": null,
   "id": "e9730b15-50a5-4387-b881-34cadc1007e6",
   "metadata": {},
   "outputs": [],
   "source": []
  },
  {
   "cell_type": "code",
   "execution_count": null,
   "id": "4484e3cb-45a8-4ba9-ac38-25e660ff216b",
   "metadata": {},
   "outputs": [],
   "source": []
  },
  {
   "cell_type": "code",
   "execution_count": null,
   "id": "985fad87-4ce1-41e2-b06c-d8430cfa374f",
   "metadata": {},
   "outputs": [],
   "source": []
  }
 ],
 "metadata": {
  "kernelspec": {
   "display_name": "Python 3 (ipykernel)",
   "language": "python",
   "name": "python3"
  },
  "language_info": {
   "codemirror_mode": {
    "name": "ipython",
    "version": 3
   },
   "file_extension": ".py",
   "mimetype": "text/x-python",
   "name": "python",
   "nbconvert_exporter": "python",
   "pygments_lexer": "ipython3",
   "version": "3.13.0"
  }
 },
 "nbformat": 4,
 "nbformat_minor": 5
}
